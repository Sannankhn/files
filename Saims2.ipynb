{
 "cells": [
  {
   "cell_type": "markdown",
   "metadata": {},
   "source": [
    "# Maths expressions : unfamiliar operators"
   ]
  },
  {
   "cell_type": "code",
   "execution_count": 2,
   "metadata": {},
   "outputs": [
    {
     "data": {
      "text/plain": [
       "1"
      ]
     },
     "execution_count": 2,
     "metadata": {},
     "output_type": "execute_result"
    }
   ],
   "source": [
    "10 % 3 # remainder"
   ]
  },
  {
   "cell_type": "code",
   "execution_count": 3,
   "metadata": {},
   "outputs": [
    {
     "data": {
      "text/plain": [
       "15"
      ]
     },
     "execution_count": 3,
     "metadata": {},
     "output_type": "execute_result"
    }
   ],
   "source": [
    "a = 10\n",
    "a + 5"
   ]
  },
  {
   "cell_type": "code",
   "execution_count": 4,
   "metadata": {},
   "outputs": [
    {
     "name": "stdout",
     "output_type": "stream",
     "text": [
      "10\n"
     ]
    }
   ],
   "source": [
    "print(a)"
   ]
  },
  {
   "cell_type": "code",
   "execution_count": 5,
   "metadata": {},
   "outputs": [
    {
     "name": "stdout",
     "output_type": "stream",
     "text": [
      "15\n"
     ]
    }
   ],
   "source": [
    "a = a + 5\n",
    "print(a)"
   ]
  },
  {
   "cell_type": "code",
   "execution_count": 9,
   "metadata": {},
   "outputs": [],
   "source": [
    "a += 5"
   ]
  },
  {
   "cell_type": "code",
   "execution_count": 10,
   "metadata": {},
   "outputs": [
    {
     "name": "stdout",
     "output_type": "stream",
     "text": [
      "25\n"
     ]
    }
   ],
   "source": [
    "print(a)"
   ]
  },
  {
   "cell_type": "code",
   "execution_count": 13,
   "metadata": {},
   "outputs": [
    {
     "name": "stdout",
     "output_type": "stream",
     "text": [
      "10\n"
     ]
    }
   ],
   "source": [
    "a -= 5  # minus\n",
    "print(a)"
   ]
  },
  {
   "cell_type": "code",
   "execution_count": 15,
   "metadata": {},
   "outputs": [
    {
     "name": "stdout",
     "output_type": "stream",
     "text": [
      "20\n"
     ]
    }
   ],
   "source": [
    "a *= 2\n",
    "print(a)"
   ]
  },
  {
   "cell_type": "code",
   "execution_count": 16,
   "metadata": {},
   "outputs": [
    {
     "name": "stdout",
     "output_type": "stream",
     "text": [
      "10.0\n"
     ]
    }
   ],
   "source": [
    "a /= 2\n",
    "print(a)"
   ]
  },
  {
   "cell_type": "code",
   "execution_count": 17,
   "metadata": {},
   "outputs": [
    {
     "name": "stdout",
     "output_type": "stream",
     "text": [
      "50\n"
     ]
    }
   ],
   "source": [
    "b = 100\n",
    "b //= 2\n",
    "print(b)"
   ]
  },
  {
   "cell_type": "markdown",
   "metadata": {},
   "source": [
    "# Compration operator"
   ]
  },
  {
   "cell_type": "code",
   "execution_count": 18,
   "metadata": {},
   "outputs": [
    {
     "data": {
      "text/plain": [
       "True"
      ]
     },
     "execution_count": 18,
     "metadata": {},
     "output_type": "execute_result"
    }
   ],
   "source": [
    "a = 2\n",
    "b = 2\n",
    "\n",
    "a == b"
   ]
  },
  {
   "cell_type": "code",
   "execution_count": 19,
   "metadata": {},
   "outputs": [
    {
     "data": {
      "text/plain": [
       "False"
      ]
     },
     "execution_count": 19,
     "metadata": {},
     "output_type": "execute_result"
    }
   ],
   "source": [
    "a != b # a not equal to b"
   ]
  },
  {
   "cell_type": "code",
   "execution_count": 20,
   "metadata": {},
   "outputs": [
    {
     "data": {
      "text/plain": [
       "False"
      ]
     },
     "execution_count": 20,
     "metadata": {},
     "output_type": "execute_result"
    }
   ],
   "source": [
    "a > b"
   ]
  },
  {
   "cell_type": "code",
   "execution_count": 21,
   "metadata": {},
   "outputs": [
    {
     "data": {
      "text/plain": [
       "False"
      ]
     },
     "execution_count": 21,
     "metadata": {},
     "output_type": "execute_result"
    }
   ],
   "source": [
    "a < b"
   ]
  },
  {
   "cell_type": "code",
   "execution_count": 22,
   "metadata": {},
   "outputs": [
    {
     "data": {
      "text/plain": [
       "True"
      ]
     },
     "execution_count": 22,
     "metadata": {},
     "output_type": "execute_result"
    }
   ],
   "source": [
    "a >= b"
   ]
  },
  {
   "cell_type": "code",
   "execution_count": 24,
   "metadata": {},
   "outputs": [
    {
     "data": {
      "text/plain": [
       "True"
      ]
     },
     "execution_count": 24,
     "metadata": {},
     "output_type": "execute_result"
    }
   ],
   "source": [
    "a <= b"
   ]
  },
  {
   "cell_type": "markdown",
   "metadata": {},
   "source": [
    "#  Math expressions : Eliminating ambiguity"
   ]
  },
  {
   "cell_type": "code",
   "execution_count": 25,
   "metadata": {},
   "outputs": [
    {
     "data": {
      "text/plain": [
       "100"
      ]
     },
     "execution_count": 25,
     "metadata": {},
     "output_type": "execute_result"
    }
   ],
   "source": [
    "10 ** 2"
   ]
  },
  {
   "cell_type": "code",
   "execution_count": 26,
   "metadata": {},
   "outputs": [
    {
     "data": {
      "text/plain": [
       "108.0"
      ]
     },
     "execution_count": 26,
     "metadata": {},
     "output_type": "execute_result"
    }
   ],
   "source": [
    "10 * 3 ** 2 + (12 * 3)/2"
   ]
  },
  {
   "cell_type": "code",
   "execution_count": 1,
   "metadata": {},
   "outputs": [
    {
     "data": {
      "text/plain": [
       "-24.5"
      ]
     },
     "execution_count": 1,
     "metadata": {},
     "output_type": "execute_result"
    }
   ],
   "source": [
    "# B Brackets\n",
    "# o order\n",
    "# d Division\n",
    "# m multiplication\n",
    "# a addition\n",
    "# s substraction\n",
    "\n",
    "2 / 4 - 3 * 9 + 2  #bodemas role"
   ]
  },
  {
   "cell_type": "markdown",
   "metadata": {},
   "source": [
    "# if as statements"
   ]
  },
  {
   "cell_type": "code",
   "execution_count": 33,
   "metadata": {},
   "outputs": [
    {
     "name": "stdout",
     "output_type": "stream",
     "text": [
      "First Number: 2\n",
      "Second Number: 3\n",
      "Wrong answer\n"
     ]
    }
   ],
   "source": [
    "x = int(input(\"First Number: \"))\n",
    "y = int(input(\"Second Number: \"))\n",
    "\n",
    "if x + y > 10:\n",
    "    print(\"Sum is greater than 10\")\n",
    "else:\n",
    "    print(\"Wrong answer\")"
   ]
  },
  {
   "cell_type": "code",
   "execution_count": 34,
   "metadata": {},
   "outputs": [
    {
     "ename": "SyntaxError",
     "evalue": "invalid syntax (<ipython-input-34-1cda389f826c>, line 7)",
     "output_type": "error",
     "traceback": [
      "\u001b[1;36m  File \u001b[1;32m\"<ipython-input-34-1cda389f826c>\"\u001b[1;36m, line \u001b[1;32m7\u001b[0m\n\u001b[1;33m    x % 2 == 1:\u001b[0m\n\u001b[1;37m               ^\u001b[0m\n\u001b[1;31mSyntaxError\u001b[0m\u001b[1;31m:\u001b[0m invalid syntax\n"
     ]
    }
   ],
   "source": [
    "x = int(input(\"First Number: \"))\n",
    "y = int(input(\"Second Number: \"))\n",
    "\n",
    "if x % 2 == 0:\n",
    "    print(\"is even number\")\n",
    "else:\n",
    "    x % 2 == 1:\n",
    "        print(\" is odd number\")"
   ]
  },
  {
   "cell_type": "code",
   "execution_count": 36,
   "metadata": {},
   "outputs": [
    {
     "ename": "SyntaxError",
     "evalue": "invalid syntax (<ipython-input-36-2a8c620667bd>, line 6)",
     "output_type": "error",
     "traceback": [
      "\u001b[1;36m  File \u001b[1;32m\"<ipython-input-36-2a8c620667bd>\"\u001b[1;36m, line \u001b[1;32m6\u001b[0m\n\u001b[1;33m    else if x % 2 == 1:\u001b[0m\n\u001b[1;37m          ^\u001b[0m\n\u001b[1;31mSyntaxError\u001b[0m\u001b[1;31m:\u001b[0m invalid syntax\n"
     ]
    }
   ],
   "source": [
    "x = int(input(\"First Number: \"))\n",
    "y = int(input(\"Second Number: \"))\n",
    "\n",
    "if x % 2 == 0:\n",
    "    print(\"is even number\")\n",
    "else if x % 2 == 1:\n",
    "        print(\" is odd number\")"
   ]
  },
  {
   "cell_type": "code",
   "execution_count": 42,
   "metadata": {},
   "outputs": [
    {
     "name": "stdout",
     "output_type": "stream",
     "text": [
      "Input your Number: 2\n",
      "is even number\n"
     ]
    }
   ],
   "source": [
    "x = int(input(\"Input your Number: \"))\n",
    "\n",
    "if x % 2 == 0:\n",
    "    print(\"is even number\")\n",
    "else:\n",
    "    print(\" is odd number\")"
   ]
  },
  {
   "cell_type": "code",
   "execution_count": 54,
   "metadata": {},
   "outputs": [
    {
     "name": "stdout",
     "output_type": "stream",
     "text": [
      "Nic Mojood hai? Yes\n",
      "Andar Jao Bhai\n",
      " Voter List mai name hai?Yes\n",
      "Cast your vote\n"
     ]
    }
   ],
   "source": [
    "nic = input(\"Nic Mojood hai? \").lower()\n",
    "if nic == \"yes\":\n",
    "    print(\"Andar Jao Bhai\")\n",
    "    voter = input(\" Voter List mai name hai?\").lower()\n",
    "    if voter == \"yes\":\n",
    "        print(\"Cast your vote\")\n",
    "    else:\n",
    "        print(\"Dosre center Dekhain\")\n",
    "else:\n",
    "    print(\"Nic lay ker aien\")"
   ]
  },
  {
   "cell_type": "code",
   "execution_count": 49,
   "metadata": {},
   "outputs": [
    {
     "data": {
      "text/plain": [
       "'PAKISTAN'"
      ]
     },
     "execution_count": 49,
     "metadata": {},
     "output_type": "execute_result"
    }
   ],
   "source": [
    "x = \"pakistan\"\n",
    "x.upper()"
   ]
  },
  {
   "cell_type": "code",
   "execution_count": 50,
   "metadata": {},
   "outputs": [
    {
     "name": "stdout",
     "output_type": "stream",
     "text": [
      "pakistan\n"
     ]
    }
   ],
   "source": [
    "print(x.lower())"
   ]
  },
  {
   "cell_type": "code",
   "execution_count": 74,
   "metadata": {},
   "outputs": [
    {
     "name": "stdout",
     "output_type": "stream",
     "text": [
      "Tumhare pase ticket haiYes\n",
      "Ander jai\n",
      "Tumhare age kitne hai13\n",
      "Jab 20 year ke hojai tab aie\n"
     ]
    }
   ],
   "source": [
    "ticket = input(\"Tumhare pase ticket hai\").lower()\n",
    "if ticket == \"yes\":\n",
    "    print(\"Ander jai\")\n",
    "    age = int(input(\"Tumhare age kitne hai\"))\n",
    "    if age > 20:\n",
    "        print(\"Theik hai ander jai\")\n",
    "    else:\n",
    "        print(\"Jab 20 year ke hojai tab aie\")\n",
    "else:\n",
    "    print(\"Dafa hojai\")"
   ]
  },
  {
   "cell_type": "code",
   "execution_count": 79,
   "metadata": {},
   "outputs": [],
   "source": [
    "# else if jaha true hua cose wahe tak run hoga bs"
   ]
  },
  {
   "cell_type": "code",
   "execution_count": 78,
   "metadata": {},
   "outputs": [
    {
     "name": "stdout",
     "output_type": "stream",
     "text": [
      "First Number: 2\n",
      "Second Number: 2\n",
      "Input are not valid\n"
     ]
    }
   ],
   "source": [
    "x = int(input(\"First Number: \"))\n",
    "y = int(input(\"Second Number: \"))\n",
    "\n",
    "if x + y < 0:\n",
    "    print(\"Inputs are valid\")\n",
    "elif x + y > 10:\n",
    "    print(\"Input are valid\")\n",
    "elif x + y > 100:\n",
    "    print(\"inputs are valid\")\n",
    "else:\n",
    "    print(\"Input are not valid\")"
   ]
  },
  {
   "cell_type": "markdown",
   "metadata": {},
   "source": [
    "# logical and logical \"or\" operator"
   ]
  },
  {
   "cell_type": "code",
   "execution_count": 82,
   "metadata": {},
   "outputs": [
    {
     "name": "stdout",
     "output_type": "stream",
     "text": [
      "Nic Mojood hai? no\n",
      "Nic Mojood hai? yes\n",
      "Dosre center Dekhain\n"
     ]
    }
   ],
   "source": [
    "nic = input(\"Nic Mojood hai? \").lower()\n",
    "voter = input(\"Nic Mojood hai? \").lower()\n",
    "\n",
    "if nic == \"yes\" and voter == \"yes\":\n",
    "    print(\"Cast your vote\")\n",
    "else:\n",
    "    print(\"Dosre center Dekhain\")"
   ]
  },
  {
   "cell_type": "code",
   "execution_count": 83,
   "metadata": {},
   "outputs": [
    {
     "name": "stdout",
     "output_type": "stream",
     "text": [
      "Nic Mojood hai? no\n",
      "Nic lay ker aien\n"
     ]
    }
   ],
   "source": [
    "nic = input(\"Nic Mojood hai? \").lower()\n",
    "if nic == \"yes\":\n",
    "    print(\"Andar Jao Bhai\")\n",
    "    voter = input(\" Voter List mai name hai?\").lower()\n",
    "    if voter == \"yes\":\n",
    "        print(\"Cast your vote\")\n",
    "    else:\n",
    "        print(\"Dosre center Dekhain\")\n",
    "else:\n",
    "    print(\"Nic lay ker aien\")"
   ]
  },
  {
   "cell_type": "code",
   "execution_count": 84,
   "metadata": {},
   "outputs": [],
   "source": [
    "# comment\n",
    "# ctrl + /  ager sb ko comment kerna ho\n",
    "# shift daba ke 3 dafa '''\n",
    "# adopt pdf reader for book read"
   ]
  },
  {
   "cell_type": "code",
   "execution_count": null,
   "metadata": {},
   "outputs": [],
   "source": []
  }
 ],
 "metadata": {
  "kernelspec": {
   "display_name": "Python 3",
   "language": "python",
   "name": "python3"
  },
  "language_info": {
   "codemirror_mode": {
    "name": "ipython",
    "version": 3
   },
   "file_extension": ".py",
   "mimetype": "text/x-python",
   "name": "python",
   "nbconvert_exporter": "python",
   "pygments_lexer": "ipython3",
   "version": "3.7.3"
  }
 },
 "nbformat": 4,
 "nbformat_minor": 2
}
